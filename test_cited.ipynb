{
 "cells": [
  {
   "cell_type": "code",
   "execution_count": 1,
   "metadata": {
    "collapsed": false
   },
   "outputs": [
    {
     "data": {
      "text/plain": [
       "u'local[*]'"
      ]
     },
     "execution_count": 1,
     "metadata": {},
     "output_type": "execute_result"
    }
   ],
   "source": [
    "sc.master"
   ]
  },
  {
   "cell_type": "code",
   "execution_count": 2,
   "metadata": {
    "collapsed": true
   },
   "outputs": [],
   "source": [
    "global Path    \n",
    "if sc.master[0:5]==\"local\" :\n",
    "   Path=\"file:/home/hduser/pythonwork/PythonProject/\"\n",
    "else:   \n",
    "   Path=\"hdfs://master:9000/user/hduser/\""
   ]
  },
  {
   "cell_type": "code",
   "execution_count": 3,
   "metadata": {
    "collapsed": false
   },
   "outputs": [
    {
     "data": {
      "text/plain": [
       "1000"
      ]
     },
     "execution_count": 3,
     "metadata": {},
     "output_type": "execute_result"
    }
   ],
   "source": [
    "rawUserData = sc.textFile(Path+\"cite75_99.txt\")\n",
    "rawUserData.count()"
   ]
  },
  {
   "cell_type": "code",
   "execution_count": 4,
   "metadata": {
    "collapsed": false
   },
   "outputs": [
    {
     "data": {
      "text/plain": [
       "[u'\"CITING\",\"CITED\"',\n",
       " u'3858241,956203',\n",
       " u'3858241,1324234',\n",
       " u'3858241,3398406',\n",
       " u'3858241,3557384',\n",
       " u'3858241,3634889',\n",
       " u'3858242,1515701',\n",
       " u'3858242,3319261',\n",
       " u'3858242,3668705',\n",
       " u'3858242,3707004']"
      ]
     },
     "execution_count": 4,
     "metadata": {},
     "output_type": "execute_result"
    }
   ],
   "source": [
    "rawUserData.take(10)"
   ]
  },
  {
   "cell_type": "code",
   "execution_count": 5,
   "metadata": {
    "collapsed": true
   },
   "outputs": [],
   "source": [
    "header = rawUserData.first()\n",
    "rawUserData = rawUserData.filter(lambda row : row != header)"
   ]
  },
  {
   "cell_type": "code",
   "execution_count": 6,
   "metadata": {
    "collapsed": false
   },
   "outputs": [
    {
     "data": {
      "text/plain": [
       "[u'3858241,956203',\n",
       " u'3858241,1324234',\n",
       " u'3858241,3398406',\n",
       " u'3858241,3557384',\n",
       " u'3858241,3634889',\n",
       " u'3858242,1515701',\n",
       " u'3858242,3319261',\n",
       " u'3858242,3668705',\n",
       " u'3858242,3707004',\n",
       " u'3858243,2949611']"
      ]
     },
     "execution_count": 6,
     "metadata": {},
     "output_type": "execute_result"
    }
   ],
   "source": [
    "rawUserData.take(10)"
   ]
  },
  {
   "cell_type": "code",
   "execution_count": 7,
   "metadata": {
    "collapsed": true
   },
   "outputs": [],
   "source": [
    "def parse_data(line):\n",
    "    fields = line.split(\",\")\n",
    "    return fields[1]"
   ]
  },
  {
   "cell_type": "code",
   "execution_count": 8,
   "metadata": {
    "collapsed": true
   },
   "outputs": [],
   "source": [
    "columncited = rawUserData.map(parse_data)"
   ]
  },
  {
   "cell_type": "code",
   "execution_count": 9,
   "metadata": {
    "collapsed": false
   },
   "outputs": [
    {
     "data": {
      "text/plain": [
       "[u'956203',\n",
       " u'1324234',\n",
       " u'3398406',\n",
       " u'3557384',\n",
       " u'3634889',\n",
       " u'1515701',\n",
       " u'3319261',\n",
       " u'3668705',\n",
       " u'3707004',\n",
       " u'2949611']"
      ]
     },
     "execution_count": 9,
     "metadata": {},
     "output_type": "execute_result"
    }
   ],
   "source": [
    "columncited.take(10)"
   ]
  },
  {
   "cell_type": "code",
   "execution_count": 10,
   "metadata": {
    "collapsed": false
   },
   "outputs": [],
   "source": [
    "countsRDD = columncited.map(lambda x : (x , 1)).reduceByKey(lambda x , y : x + y)"
   ]
  },
  {
   "cell_type": "code",
   "execution_count": 11,
   "metadata": {
    "collapsed": true
   },
   "outputs": [],
   "source": [
    "result = countsRDD.collect() ##transfer to list"
   ]
  },
  {
   "cell_type": "code",
   "execution_count": 12,
   "metadata": {
    "collapsed": false
   },
   "outputs": [
    {
     "data": {
      "text/plain": [
       "[(u'3310865', 2),\n",
       " (u'3755824', 2),\n",
       " (u'3621837', 2),\n",
       " (u'3449992', 1),\n",
       " (u'3204343', 1)]"
      ]
     },
     "execution_count": 12,
     "metadata": {},
     "output_type": "execute_result"
    }
   ],
   "source": [
    "sort_result= sorted(result , key = lambda x : -x[:][1])\n",
    "sort_result[:5]"
   ]
  },
  {
   "cell_type": "code",
   "execution_count": 13,
   "metadata": {
    "collapsed": false
   },
   "outputs": [
    {
     "data": {
      "text/plain": [
       "[(u'3310865', 2),\n",
       " (u'3755824', 2),\n",
       " (u'3621837', 2),\n",
       " (u'3449992', 1),\n",
       " (u'3204343', 1)]"
      ]
     },
     "execution_count": 13,
     "metadata": {},
     "output_type": "execute_result"
    }
   ],
   "source": [
    "sortRDD=countsRDD.sortBy(lambda pair:pair[1], ascending=False) #print plot\n",
    "sortRDD.take(5)"
   ]
  },
  {
   "cell_type": "code",
   "execution_count": 14,
   "metadata": {
    "collapsed": false
   },
   "outputs": [
    {
     "data": {
      "text/plain": [
       "pyspark.rdd.PipelinedRDD"
      ]
     },
     "execution_count": 14,
     "metadata": {},
     "output_type": "execute_result"
    }
   ],
   "source": [
    "type(sortRDD)"
   ]
  },
  {
   "cell_type": "code",
   "execution_count": 15,
   "metadata": {
    "collapsed": false
   },
   "outputs": [
    {
     "data": {
      "text/plain": [
       "[Row(count=2, sname=u'3310865'),\n",
       " Row(count=2, sname=u'3755824'),\n",
       " Row(count=2, sname=u'3621837'),\n",
       " Row(count=1, sname=u'3449992'),\n",
       " Row(count=1, sname=u'3204343')]"
      ]
     },
     "execution_count": 15,
     "metadata": {},
     "output_type": "execute_result"
    }
   ],
   "source": [
    "sqlContext = SparkSession.builder.getOrCreate()\n",
    "from pyspark.sql import Row\n",
    "user_Rows1 = sortRDD.map(lambda p:\n",
    "     Row(\n",
    "         sname=p[0], \n",
    "         count=p[1],\n",
    "            )\n",
    ")\n",
    "user_Rows1.take(5)"
   ]
  },
  {
   "cell_type": "code",
   "execution_count": 16,
   "metadata": {
    "collapsed": false
   },
   "outputs": [
    {
     "name": "stdout",
     "output_type": "stream",
     "text": [
      "root\n",
      " |-- count: long (nullable = true)\n",
      " |-- sname: string (nullable = true)\n",
      "\n"
     ]
    }
   ],
   "source": [
    "user_df1= sqlContext.createDataFrame(user_Rows1)\n",
    "user_df1 .printSchema()"
   ]
  },
  {
   "cell_type": "code",
   "execution_count": 17,
   "metadata": {
    "collapsed": false
   },
   "outputs": [
    {
     "name": "stdout",
     "output_type": "stream",
     "text": [
      "+-----+-------+\n",
      "|count|  sname|\n",
      "+-----+-------+\n",
      "|    2|3310865|\n",
      "|    2|3755824|\n",
      "|    2|3621837|\n",
      "|    1|3449992|\n",
      "+-----+-------+\n",
      "only showing top 4 rows\n",
      "\n"
     ]
    }
   ],
   "source": [
    "user_df1.show(4)"
   ]
  },
  {
   "cell_type": "code",
   "execution_count": 18,
   "metadata": {
    "collapsed": false
   },
   "outputs": [
    {
     "data": {
      "text/html": [
       "<div>\n",
       "<table border=\"1\" class=\"dataframe\">\n",
       "  <thead>\n",
       "    <tr style=\"text-align: right;\">\n",
       "      <th></th>\n",
       "      <th>count</th>\n",
       "    </tr>\n",
       "    <tr>\n",
       "      <th>sname</th>\n",
       "      <th></th>\n",
       "    </tr>\n",
       "  </thead>\n",
       "  <tbody>\n",
       "    <tr>\n",
       "      <th>3310865</th>\n",
       "      <td>2</td>\n",
       "    </tr>\n",
       "    <tr>\n",
       "      <th>3755824</th>\n",
       "      <td>2</td>\n",
       "    </tr>\n",
       "    <tr>\n",
       "      <th>3621837</th>\n",
       "      <td>2</td>\n",
       "    </tr>\n",
       "    <tr>\n",
       "      <th>3449992</th>\n",
       "      <td>1</td>\n",
       "    </tr>\n",
       "    <tr>\n",
       "      <th>3204343</th>\n",
       "      <td>1</td>\n",
       "    </tr>\n",
       "    <tr>\n",
       "      <th>2964916</th>\n",
       "      <td>1</td>\n",
       "    </tr>\n",
       "    <tr>\n",
       "      <th>3389560</th>\n",
       "      <td>1</td>\n",
       "    </tr>\n",
       "    <tr>\n",
       "      <th>3738123</th>\n",
       "      <td>1</td>\n",
       "    </tr>\n",
       "    <tr>\n",
       "      <th>3263359</th>\n",
       "      <td>1</td>\n",
       "    </tr>\n",
       "    <tr>\n",
       "      <th>1936846</th>\n",
       "      <td>1</td>\n",
       "    </tr>\n",
       "  </tbody>\n",
       "</table>\n",
       "</div>"
      ],
      "text/plain": [
       "         count\n",
       "sname         \n",
       "3310865      2\n",
       "3755824      2\n",
       "3621837      2\n",
       "3449992      1\n",
       "3204343      1\n",
       "2964916      1\n",
       "3389560      1\n",
       "3738123      1\n",
       "3263359      1\n",
       "1936846      1"
      ]
     },
     "execution_count": 18,
     "metadata": {},
     "output_type": "execute_result"
    }
   ],
   "source": [
    "movie_pandas_df =user_df1.toPandas().set_index('sname')\n",
    "movie_pandas_df2=movie_pandas_df[:5] #dataframe\n",
    "movie_pandas_df2\n",
    "movie_pandas_df3=movie_pandas_df[:10] #dataframe\n",
    "movie_pandas_df3"
   ]
  },
  {
   "cell_type": "code",
   "execution_count": 19,
   "metadata": {
    "collapsed": false
   },
   "outputs": [
    {
     "data": {
      "image/png": "[encoded data removed]",
      "text/plain": [
       "<matplotlib.figure.Figure at 0x7fa31f5d1bd0>"
      ]
     },
     "metadata": {},
     "output_type": "display_data"
    }
   ],
   "source": [
    "import matplotlib.pyplot as plt\n",
    "%matplotlib inline\n",
    "ax = movie_pandas_df2 ['count']  \\\n",
    "            .plot(kind='bar', title =\"sum_by_count\",figsize=(12,6),legend=True, fontsize=12)\n",
    "plt.show()"
   ]
  },
  {
   "cell_type": "code",
   "execution_count": 20,
   "metadata": {
    "collapsed": false
   },
   "outputs": [
    {
     "data": {
      "image/png": "[encoded data removed]",
      "text/plain": [
       "<matplotlib.figure.Figure at 0x7fa32a3d53d0>"
      ]
     },
     "metadata": {},
     "output_type": "display_data"
    }
   ],
   "source": [
    "%matplotlib inline\n",
    "\n",
    "ax =movie_pandas_df3 ['count'] .plot(kind='pie',\n",
    "           title =\"sum_by_pname\",figsize=(8,8),startangle=90,autopct='%1.1f%%')\n",
    "ax.legend(bbox_to_anchor=(1.05, 1), loc=2, borderaxespad=0.)\n",
    "plt.show()"
   ]
  },
  {
   "cell_type": "code",
   "execution_count": 22,
   "metadata": {
    "collapsed": false
   },
   "outputs": [
    {
     "data": {
      "text/plain": [
       "[u'3858241,1324234',\n",
       " u'3858241,3398406',\n",
       " u'3858241,3557384',\n",
       " u'3858241,3634889',\n",
       " u'3858242,1515701']"
      ]
     },
     "execution_count": 22,
     "metadata": {},
     "output_type": "execute_result"
    }
   ],
   "source": [
    "##############citing#######################################\n",
    "target=rawUserData.first()\n",
    "# textFile2=textFile.reduce(target)\n",
    "textFile2 = rawUserData.filter(lambda line: line != target)\n",
    "textFile2.take(5)"
   ]
  },
  {
   "cell_type": "code",
   "execution_count": 23,
   "metadata": {
    "collapsed": false
   },
   "outputs": [
    {
     "data": {
      "text/plain": [
       "[[u'3858241', u'1324234'],\n",
       " [u'3858241', u'3398406'],\n",
       " [u'3858241', u'3557384'],\n",
       " [u'3858241', u'3634889'],\n",
       " [u'3858242', u'1515701']]"
      ]
     },
     "execution_count": 23,
     "metadata": {},
     "output_type": "execute_result"
    }
   ],
   "source": [
    "textFile3 =textFile2.map(lambda line: line.split(\",\"))\n",
    "textFile3.take(5)"
   ]
  },
  {
   "cell_type": "code",
   "execution_count": 24,
   "metadata": {
    "collapsed": false
   },
   "outputs": [
    {
     "data": {
      "text/plain": [
       "[u'3858241',\n",
       " u'3858241',\n",
       " u'3858241',\n",
       " u'3858241',\n",
       " u'3858242',\n",
       " u'3858242',\n",
       " u'3858242',\n",
       " u'3858242',\n",
       " u'3858243',\n",
       " u'3858243']"
      ]
     },
     "execution_count": 24,
     "metadata": {},
     "output_type": "execute_result"
    }
   ],
   "source": [
    "textFile4=textFile3.map(lambda line:line[0])\n",
    "textFile4.take(10)"
   ]
  },
  {
   "cell_type": "code",
   "execution_count": 25,
   "metadata": {
    "collapsed": false
   },
   "outputs": [
    {
     "data": {
      "text/plain": [
       "[(u'3858364', 10),\n",
       " (u'3858365', 5),\n",
       " (u'3858366', 2),\n",
       " (u'3858367', 1),\n",
       " (u'3858360', 4)]"
      ]
     },
     "execution_count": 25,
     "metadata": {},
     "output_type": "execute_result"
    }
   ],
   "source": [
    "stringRDD1=textFile4.map(lambda word : (word, 1)).reduceByKey(lambda x,y : x+y)\n",
    "stringRDD1.take(5)"
   ]
  },
  {
   "cell_type": "code",
   "execution_count": 26,
   "metadata": {
    "collapsed": false
   },
   "outputs": [
    {
     "data": {
      "text/plain": [
       "[(u'3858432', 15),\n",
       " (u'3858375', 15),\n",
       " (u'3858397', 14),\n",
       " (u'3858378', 13),\n",
       " (u'3858321', 11),\n",
       " (u'3858318', 11),\n",
       " (u'3858400', 11),\n",
       " (u'3858275', 11)]"
      ]
     },
     "execution_count": 26,
     "metadata": {},
     "output_type": "execute_result"
    }
   ],
   "source": [
    "stringRDD2=stringRDD1.sortBy(lambda pair:pair[1], ascending=False)\n",
    "stringRDD2.take(8)"
   ]
  },
  {
   "cell_type": "code",
   "execution_count": 27,
   "metadata": {
    "collapsed": false
   },
   "outputs": [
    {
     "data": {
      "text/plain": [
       "[Row(count=15, patent=u'3858432'),\n",
       " Row(count=15, patent=u'3858375'),\n",
       " Row(count=14, patent=u'3858397'),\n",
       " Row(count=13, patent=u'3858378'),\n",
       " Row(count=11, patent=u'3858321'),\n",
       " Row(count=11, patent=u'3858318'),\n",
       " Row(count=11, patent=u'3858400'),\n",
       " Row(count=11, patent=u'3858275')]"
      ]
     },
     "execution_count": 27,
     "metadata": {},
     "output_type": "execute_result"
    }
   ],
   "source": [
    "sqlContext = SparkSession.builder.getOrCreate()\n",
    "from pyspark.sql import Row\n",
    "user_Rows1 = stringRDD2.map(lambda p:\n",
    "     Row(\n",
    "         patent=p[0], \n",
    "         count=p[1],\n",
    "            )\n",
    ")\n",
    "user_Rows1.take(8)"
   ]
  },
  {
   "cell_type": "code",
   "execution_count": 28,
   "metadata": {
    "collapsed": false
   },
   "outputs": [
    {
     "name": "stdout",
     "output_type": "stream",
     "text": [
      "root\n",
      " |-- count: long (nullable = true)\n",
      " |-- patent: string (nullable = true)\n",
      "\n"
     ]
    }
   ],
   "source": [
    "user_df1= sqlContext.createDataFrame(user_Rows1)\n",
    "user_df1 .printSchema()"
   ]
  },
  {
   "cell_type": "code",
   "execution_count": 29,
   "metadata": {
    "collapsed": false
   },
   "outputs": [
    {
     "name": "stdout",
     "output_type": "stream",
     "text": [
      "+-----+-------+\n",
      "|count| patent|\n",
      "+-----+-------+\n",
      "|   15|3858432|\n",
      "|   15|3858375|\n",
      "|   14|3858397|\n",
      "|   13|3858378|\n",
      "|   11|3858321|\n",
      "|   11|3858318|\n",
      "|   11|3858400|\n",
      "|   11|3858275|\n",
      "|   10|3858364|\n",
      "|   10|3858359|\n",
      "|    9|3858428|\n",
      "|    9|3858260|\n",
      "|    9|3858372|\n",
      "|    8|3858343|\n",
      "|    8|3858340|\n",
      "|    8|3858298|\n",
      "|    8|3858271|\n",
      "|    8|3858250|\n",
      "|    8|3858252|\n",
      "|    8|3858311|\n",
      "+-----+-------+\n",
      "only showing top 20 rows\n",
      "\n"
     ]
    }
   ],
   "source": [
    "user_df1.show()"
   ]
  },
  {
   "cell_type": "code",
   "execution_count": 33,
   "metadata": {
    "collapsed": false,
    "scrolled": true
   },
   "outputs": [
    {
     "data": {
      "text/html": [
       "<div>\n",
       "<table border=\"1\" class=\"dataframe\">\n",
       "  <thead>\n",
       "    <tr style=\"text-align: right;\">\n",
       "      <th></th>\n",
       "      <th>count</th>\n",
       "    </tr>\n",
       "    <tr>\n",
       "      <th>patent</th>\n",
       "      <th></th>\n",
       "    </tr>\n",
       "  </thead>\n",
       "  <tbody>\n",
       "    <tr>\n",
       "      <th>3858432</th>\n",
       "      <td>15</td>\n",
       "    </tr>\n",
       "    <tr>\n",
       "      <th>3858375</th>\n",
       "      <td>15</td>\n",
       "    </tr>\n",
       "    <tr>\n",
       "      <th>3858397</th>\n",
       "      <td>14</td>\n",
       "    </tr>\n",
       "    <tr>\n",
       "      <th>3858378</th>\n",
       "      <td>13</td>\n",
       "    </tr>\n",
       "    <tr>\n",
       "      <th>3858321</th>\n",
       "      <td>11</td>\n",
       "    </tr>\n",
       "    <tr>\n",
       "      <th>3858318</th>\n",
       "      <td>11</td>\n",
       "    </tr>\n",
       "    <tr>\n",
       "      <th>3858400</th>\n",
       "      <td>11</td>\n",
       "    </tr>\n",
       "    <tr>\n",
       "      <th>3858275</th>\n",
       "      <td>11</td>\n",
       "    </tr>\n",
       "  </tbody>\n",
       "</table>\n",
       "</div>"
      ],
      "text/plain": [
       "         count\n",
       "patent        \n",
       "3858432     15\n",
       "3858375     15\n",
       "3858397     14\n",
       "3858378     13\n",
       "3858321     11\n",
       "3858318     11\n",
       "3858400     11\n",
       "3858275     11"
      ]
     },
     "execution_count": 33,
     "metadata": {},
     "output_type": "execute_result"
    }
   ],
   "source": [
    "patent_pandas_df =user_df1.toPandas().set_index('patent')\n",
    "patent_pandas_df.head(8)\n",
    "patent_pandas_df1=patent_pandas_df[:8]\n",
    "patent_pandas_df1"
   ]
  },
  {
   "cell_type": "code",
   "execution_count": 34,
   "metadata": {
    "collapsed": false,
    "scrolled": true
   },
   "outputs": [
    {
     "data": {
      "image/png": "[encoded data removed]",
      "text/plain": [
       "<matplotlib.figure.Figure at 0x7fa31c19f650>"
      ]
     },
     "metadata": {},
     "output_type": "display_data"
    }
   ],
   "source": [
    "import matplotlib.pyplot as plt\n",
    "%matplotlib inline\n",
    "ax = patent_pandas_df1 ['count']  \\\n",
    "            .plot(kind='bar', title =\"patent count\",figsize=(12,6),legend=True, fontsize=12)\n",
    "plt.show()"
   ]
  },
  {
   "cell_type": "code",
   "execution_count": null,
   "metadata": {
    "collapsed": true
   },
   "outputs": [],
   "source": []
  }
 ],
 "metadata": {
  "kernelspec": {
   "display_name": "Python 2",
   "language": "python",
   "name": "python2"
  },
  "language_info": {
   "codemirror_mode": {
    "name": "ipython",
    "version": 2
   },
   "file_extension": ".py",
   "mimetype": "text/x-python",
   "name": "python",
   "nbconvert_exporter": "python",
   "pygments_lexer": "ipython2",
   "version": "2.7.11"
  }
 },
 "nbformat": 4,
 "nbformat_minor": 0
}
