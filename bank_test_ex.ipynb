{
 "cells": [
  {
   "cell_type": "code",
   "execution_count": 1,
   "metadata": {
    "collapsed": false
   },
   "outputs": [
    {
     "data": {
      "text/plain": [
       "u'local[*]'"
      ]
     },
     "execution_count": 1,
     "metadata": {},
     "output_type": "execute_result"
    }
   ],
   "source": [
    "sc.master"
   ]
  },
  {
   "cell_type": "code",
   "execution_count": 2,
   "metadata": {
    "collapsed": true
   },
   "outputs": [],
   "source": [
    "global Path    \n",
    "if sc.master[0:5]==\"local\" :\n",
    "    Path=\"file:/home/hduser/pythonsparkexample/PythonProject/\"\n",
    "else:   \n",
    "    Path=\"hdfs://master:9000/user/hduser/\""
   ]
  },
  {
   "cell_type": "code",
   "execution_count": 3,
   "metadata": {
    "collapsed": false
   },
   "outputs": [
    {
     "name": "stdout",
     "output_type": "stream",
     "text": [
      "開始匯入資料...\n"
     ]
    },
    {
     "data": {
      "text/plain": [
       "[u'X1,X2, X3,Y', u'-48.2,6.8,1.6,0']"
      ]
     },
     "execution_count": 3,
     "metadata": {},
     "output_type": "execute_result"
    }
   ],
   "source": [
    "print(\"開始匯入資料...\")\n",
    "rawDataWithHeader = sc.textFile(Path+\"data/bank.csv\")\n",
    "rawDataWithHeader.take(2)"
   ]
  },
  {
   "cell_type": "code",
   "execution_count": 4,
   "metadata": {
    "collapsed": false
   },
   "outputs": [
    {
     "name": "stdout",
     "output_type": "stream",
     "text": [
      "共計：30筆\n"
     ]
    }
   ],
   "source": [
    "header = rawDataWithHeader.first() \n",
    "rData = rawDataWithHeader.filter(lambda x:x !=header)  \n",
    "lines = rData.map(lambda x: x.split(\",\"))\n",
    "print(\"共計：\" + str(lines.count()) + \"筆\")"
   ]
  },
  {
   "cell_type": "code",
   "execution_count": 5,
   "metadata": {
    "collapsed": false
   },
   "outputs": [
    {
     "data": {
      "text/plain": [
       "[[u'-48.2', u'6.8', u'1.6', u'0'],\n",
       " [u'-49.2', u'-17.2', u'0.3', u'0'],\n",
       " [u'-19.2', u'-36.7', u'0.8', u'0'],\n",
       " [u'-18.1', u'-6.5', u'0.9', u'0'],\n",
       " [u'-98', u'-20.8', u'1.7', u'0'],\n",
       " [u'-129', u'-14.2', u'1.3', u'0'],\n",
       " [u'-4', u'-15.8', u'2.1', u'0'],\n",
       " [u'-8.7', u'-36.3', u'2.8', u'0'],\n",
       " [u'-59.2', u'-12.8', u'2.1', u'0'],\n",
       " [u'-13.1', u'-17.6', u'0.9', u'0'],\n",
       " [u'-38', u'1.6', u'1.2', u'0'],\n",
       " [u'-57.9', u'0.7', u'0.8', u'0'],\n",
       " [u'-8.8', u'-9.1', u'0.9', u'0'],\n",
       " [u'-64.7', u'-4', u'0.1', u'0'],\n",
       " [u'-11.4', u'4.8', u'0.9', u'0'],\n",
       " [u'43', u'16.4', u'1.3', u'1'],\n",
       " [u'47', u'16', u'1.9', u'1'],\n",
       " [u'-3.3', u'4', u'2.7', u'1'],\n",
       " [u'35', u'20.8', u'1.9', u'1'],\n",
       " [u'46.7', u'12.6', u'0.9', u'1'],\n",
       " [u'20.8', u'12.5', u'2.4', u'1'],\n",
       " [u'33', u'23.6', u'1.5', u'1'],\n",
       " [u'26.1', u'10.4', u'2.1', u'1'],\n",
       " [u'68.6', u'13.8', u'1.6', u'1'],\n",
       " [u'37.3', u'33.4', u'3.5', u'1'],\n",
       " [u'59', u'23.1', u'5.5', u'1'],\n",
       " [u'49.6', u'23.8', u'1.9', u'1'],\n",
       " [u'12.5', u'7', u'1.8', u'1'],\n",
       " [u'37.3', u'34.1', u'1.5', u'1'],\n",
       " [u'35.3', u'4.2', u'0.9', u'1']]"
      ]
     },
     "execution_count": 5,
     "metadata": {},
     "output_type": "execute_result"
    }
   ],
   "source": [
    "lines.collect()"
   ]
  },
  {
   "cell_type": "code",
   "execution_count": 6,
   "metadata": {
    "collapsed": true
   },
   "outputs": [],
   "source": [
    "import numpy as np\n",
    "def extract_features(field,featureEnd):\n",
    "    #擷取分類特徵欄位\n",
    "       #第3个欄位不是特徵欄位\n",
    "    numericalFeatures=[float(id)  for  id in field[0:2]]    \n",
    "    #回傳「分類特徵欄位」\n",
    "    return numericalFeatures\n",
    "\n",
    "\n",
    "def extract_label(field):\n",
    "    label=(field[-1])\n",
    "    return float(label)"
   ]
  },
  {
   "cell_type": "code",
   "execution_count": 7,
   "metadata": {
    "collapsed": false
   },
   "outputs": [
    {
     "name": "stdout",
     "output_type": "stream",
     "text": [
      "[0.0, 0.0, 0.0, 0.0, 0.0, 0.0, 0.0, 0.0, 0.0, 0.0, 0.0, 0.0, 0.0, 0.0, 0.0, 1.0, 1.0, 1.0, 1.0, 1.0, 1.0, 1.0, 1.0, 1.0, 1.0, 1.0, 1.0, 1.0, 1.0, 1.0]\n"
     ]
    }
   ],
   "source": [
    "labelRDD = lines.map( lambda r: extract_label(r))\n",
    "print labelRDD.collect()"
   ]
  },
  {
   "cell_type": "code",
   "execution_count": 8,
   "metadata": {
    "collapsed": true
   },
   "outputs": [],
   "source": [
    "from pyspark.mllib.regression import LabeledPoint\n",
    "labelpointRDD = lines.map( lambda r: \n",
    "     LabeledPoint(\n",
    "                extract_label(r),\n",
    "                extract_features(r,len(r) - 1)))"
   ]
  },
  {
   "cell_type": "code",
   "execution_count": 9,
   "metadata": {
    "collapsed": false
   },
   "outputs": [
    {
     "data": {
      "text/plain": [
       "PythonRDD[8] at RDD at PythonRDD.scala:48"
      ]
     },
     "execution_count": 9,
     "metadata": {},
     "output_type": "execute_result"
    }
   ],
   "source": [
    "labelpointRDD.take(2)\n",
    "trainData=labelpointRDD\n",
    "trainData.persist()"
   ]
  },
  {
   "cell_type": "code",
   "execution_count": 10,
   "metadata": {
    "collapsed": true
   },
   "outputs": [],
   "source": [
    "from pyspark.mllib.tree import DecisionTree\n",
    "model=DecisionTree.trainClassifier( \\\n",
    "        trainData, numClasses=2, categoricalFeaturesInfo={}, \\\n",
    "        impurity=\"entropy\", maxDepth=5, maxBins=5)"
   ]
  },
  {
   "cell_type": "code",
   "execution_count": 11,
   "metadata": {
    "collapsed": true
   },
   "outputs": [],
   "source": [
    "predictResult = model.predict([-25,2.5,0.5])  ###(X1,X2,X3) = [-25,2.5,0.5]"
   ]
  },
  {
   "cell_type": "code",
   "execution_count": 12,
   "metadata": {
    "collapsed": false
   },
   "outputs": [
    {
     "data": {
      "text/plain": [
       "0.0"
      ]
     },
     "execution_count": 12,
     "metadata": {},
     "output_type": "execute_result"
    }
   ],
   "source": [
    "predictResult"
   ]
  },
  {
   "cell_type": "code",
   "execution_count": null,
   "metadata": {
    "collapsed": true
   },
   "outputs": [],
   "source": []
  },
  {
   "cell_type": "code",
   "execution_count": 10,
   "metadata": {
    "collapsed": false
   },
   "outputs": [
    {
     "name": "stdout",
     "output_type": "stream",
     "text": [
      "trainData:16   validationData:5   testData:9\n"
     ]
    }
   ],
   "source": [
    "  #-----------3.以隨機方式將資料分為3部份並且回傳-------------\n",
    "(trainData, validationData, testData) = labelpointRDD.randomSplit([6, 2, 2])\n",
    "print(\"trainData:\" + str(trainData.count()) +   \n",
    "            \"   validationData:\" + str(validationData.count()) + \n",
    "            \"   testData:\" + str(testData.count()))\n",
    "\n"
   ]
  },
  {
   "cell_type": "code",
   "execution_count": 11,
   "metadata": {
    "collapsed": false
   },
   "outputs": [
    {
     "data": {
      "text/plain": [
       "PythonRDD[14] at RDD at PythonRDD.scala:48"
      ]
     },
     "execution_count": 11,
     "metadata": {},
     "output_type": "execute_result"
    }
   ],
   "source": [
    "trainData.persist()\n",
    "validationData.persist()\n",
    "testData.persist()"
   ]
  },
  {
   "cell_type": "code",
   "execution_count": 12,
   "metadata": {
    "collapsed": true
   },
   "outputs": [],
   "source": [
    "from pyspark.mllib.tree import DecisionTree\n",
    "from pyspark.mllib.evaluation import BinaryClassificationMetrics\n",
    "from time import time\n",
    "\n",
    "# print out the comparison of true & prediction \n",
    "def PredictData(RDD,model): \n",
    "    for data in RDD.take(5):\n",
    "        predictResult = model.predict(data.features)\n",
    "        print \" True label：  \" +str(data.label)+\"\\n\" +\\\n",
    "                  \"             ==>Predict label:\"+ str(predictResult)\n",
    "\n",
    "# get the AUC score of a given model\n",
    "def evaluateModel(model, validationData):\n",
    "    score = model.predict(validationData.map(lambda p: p.features))\n",
    "    scoreAndLabels=score.zip(validationData.map(lambda p: p.label))\n",
    "    metrics = BinaryClassificationMetrics(scoreAndLabels)\n",
    "    AUC=metrics.areaUnderROC\n",
    "    return (AUC)\n",
    "\n",
    "# build model with the given parameters & get the AUC score\n",
    "def trainEvaluateModel(trainData,validationData,\n",
    "                                        impurityParm, maxDepthParm, maxBinsParm):\n",
    "    startTime = time()\n",
    "    model = DecisionTree.trainClassifier(trainData,\n",
    "                numClasses=2, categoricalFeaturesInfo={}, impurity=impurityParm,\n",
    "                maxDepth=maxDepthParm, maxBins=maxBinsParm)\n",
    "    AUC = evaluateModel(model, validationData)\n",
    "    duration = time() - startTime\n",
    "    return (AUC,duration, impurityParm, maxDepthParm, maxBinsParm,model)\n",
    "\n",
    "# try different group of parameters & return the best model\n",
    "def evalAllParameter(trainData, validationData, \n",
    "                     impurityList, maxDepthList, maxBinsList):    \n",
    "\n",
    "    metrics = [trainEvaluateModel(trainData, validationData,  \n",
    "                            impurity,maxDepth,  maxBins  ) \n",
    "                      for impurity in impurityList \n",
    "                      for maxDepth in maxDepthList  \n",
    "                      for  maxBins in maxBinsList ]\n",
    "    \n",
    "    Smetrics = sorted(metrics, key=lambda k: k[0], reverse=True)\n",
    "    bestParameter=Smetrics[0]\n",
    "    print(\"調校後最佳參數：impurity:\" + str(bestParameter[2]) + \n",
    "                                      \",maxDepth:\" + str(bestParameter[3]) + \n",
    "                                     \",maxBins:\" + str(bestParameter[4])   + \n",
    "                                      \"\\n\"+\"AUC = \" + str(bestParameter[0]))\n",
    "    return bestParameter[5]"
   ]
  },
  {
   "cell_type": "code",
   "execution_count": 13,
   "metadata": {
    "collapsed": false
   },
   "outputs": [
    {
     "name": "stdout",
     "output_type": "stream",
     "text": [
      "validationData,  AUC: 1.0\n"
     ]
    }
   ],
   "source": [
    "# performance on validation data\n",
    "(AUC,duration, impurityParm, maxDepthParm, maxBinsParm,model)=  \\\n",
    "       trainEvaluateModel(trainData, validationData, \"entropy\", 5, 5)\n",
    "print(\"validationData,  AUC: \" + str(AUC))"
   ]
  },
  {
   "cell_type": "code",
   "execution_count": 14,
   "metadata": {
    "collapsed": false
   },
   "outputs": [
    {
     "name": "stdout",
     "output_type": "stream",
     "text": [
      "testData,  AUC: 1.0\n"
     ]
    }
   ],
   "source": [
    "# performance on test data\n",
    "(AUC,duration, impurityParm, maxDepthParm, maxBinsParm,model)=  \\\n",
    "       trainEvaluateModel(trainData, testData, \"entropy\", 5, 5)\n",
    "print(\"testData,  AUC: \" + str(AUC))"
   ]
  },
  {
   "cell_type": "code",
   "execution_count": 15,
   "metadata": {
    "collapsed": false
   },
   "outputs": [
    {
     "data": {
      "image/png": "[encoded data removed]",
      "text/plain": [
       "<matplotlib.figure.Figure at 0x7f2cd919c810>"
      ]
     },
     "metadata": {},
     "output_type": "display_data"
    }
   ],
   "source": [
    "from sklearn import metrics\n",
    "import warnings;warnings.filterwarnings('ignore')\n",
    "import matplotlib.pyplot as plt\n",
    "%matplotlib inline \n",
    "\n",
    "y = [ i.label for i in testData.collect()]\n",
    "pred = [model.predict(i.features) for i in testData.collect()]\n",
    "\n",
    "fpr, tpr, threshold = metrics.roc_curve(y, pred)\n",
    "roc_auc = metrics.auc(fpr, tpr)\n",
    "plt.figure(figsize=(5,5))\n",
    "plt.title('ROC for Model')\n",
    "plt.plot(fpr, tpr, 'b', label = 'AUC = %0.3f' % roc_auc)\n",
    "plt.legend(loc = 'lower right')\n",
    "plt.plot([0, 1], [0, 1],'r--')  # (0,0) (1,1)\n",
    "plt.ylabel('True Positive Rate')\n",
    "plt.xlabel('False Positive Rate')\n",
    "plt.show()"
   ]
  },
  {
   "cell_type": "markdown",
   "metadata": {},
   "source": [
    "# model -> predict -> evaluate"
   ]
  },
  {
   "cell_type": "code",
   "execution_count": 14,
   "metadata": {
    "collapsed": true
   },
   "outputs": [],
   "source": [
    "from pyspark.mllib.tree import DecisionTree\n",
    "from pyspark.mllib.evaluation import BinaryClassificationMetrics\n",
    "from time import time\n",
    "\n",
    "# print out the comparison of true & prediction \n",
    "def PredictData(RDD,model): \n",
    "    for data in RDD.take(5):\n",
    "        predictResult = model.predict(data.features)\n",
    "        print \" True label：  \" +str(data.label)+\"\\n\" +\\\n",
    "                  \"             ==>Predict label:\"+ str(predictResult)\n",
    "\n",
    "# get the AUC score of a given model\n",
    "def evaluateModel(model, validationData):\n",
    "    score = model.predict(validationData.map(lambda p: p.features))\n",
    "    scoreAndLabels=score.zip(validationData.map(lambda p: p.label))\n",
    "    metrics = BinaryClassificationMetrics(scoreAndLabels)\n",
    "    AUC=metrics.areaUnderROC\n",
    "    return (AUC)\n",
    "\n",
    "# build model with the given parameters & get the AUC score\n",
    "def trainEvaluateModel(trainData,validationData,\n",
    "                                        impurityParm, maxDepthParm, maxBinsParm):\n",
    "    startTime = time()\n",
    "    model = DecisionTree.trainClassifier(trainData,\n",
    "                numClasses=2, categoricalFeaturesInfo={}, impurity=impurityParm,\n",
    "                maxDepth=maxDepthParm, maxBins=maxBinsParm)\n",
    "    AUC = evaluateModel(model, validationData)\n",
    "    duration = time() - startTime\n",
    "    return (AUC,duration, impurityParm, maxDepthParm, maxBinsParm,model)\n",
    "\n",
    "# try different group of parameters & return the best model\n",
    "def evalAllParameter(trainData, validationData, \n",
    "                     impurityList, maxDepthList, maxBinsList):    \n",
    "\n",
    "    metrics = [trainEvaluateModel(trainData, validationData,  \n",
    "                            impurity,maxDepth,  maxBins  ) \n",
    "                      for impurity in impurityList \n",
    "                      for maxDepth in maxDepthList  \n",
    "                      for  maxBins in maxBinsList ]\n",
    "    \n",
    "    Smetrics = sorted(metrics, key=lambda k: k[0], reverse=True)\n",
    "    bestParameter=Smetrics[0]\n",
    "    print(\"調校後最佳參數：impurity:\" + str(bestParameter[2]) + \n",
    "                                      \",maxDepth:\" + str(bestParameter[3]) + \n",
    "                                     \",maxBins:\" + str(bestParameter[4])   + \n",
    "                                      \"\\n\"+\"AUC = \" + str(bestParameter[0]))\n",
    "    return bestParameter[5]"
   ]
  },
  {
   "cell_type": "code",
   "execution_count": 18,
   "metadata": {
    "collapsed": false
   },
   "outputs": [
    {
     "name": "stdout",
     "output_type": "stream",
     "text": [
      "-----所有參數訓練評估找出最好的參數組合---------\n",
      "調校後最佳參數：impurity:gini,maxDepth:3,maxBins:3\n",
      "AUC = 1.0\n"
     ]
    }
   ],
   "source": [
    "print(\"-----所有參數訓練評估找出最好的參數組合---------\")  \n",
    "bestModel=evalAllParameter(trainData, validationData,\n",
    "                        [\"gini\", \"entropy\"],\n",
    "                        [3, 5, 10, 15, 20, 25], \n",
    "                        [3, 5, 10, 15, 20, 25])"
   ]
  },
  {
   "cell_type": "code",
   "execution_count": 19,
   "metadata": {
    "collapsed": false
   },
   "outputs": [
    {
     "name": "stdout",
     "output_type": "stream",
     "text": [
      "AUC = 1.0\n",
      "\n",
      "\n",
      "-----預測資料-----\n",
      " True label：  0.0\n",
      "             ==>Predict label:0.0\n",
      " True label：  1.0\n",
      "             ==>Predict label:1.0\n",
      " True label：  1.0\n",
      "             ==>Predict label:1.0\n",
      " True label：  1.0\n",
      "             ==>Predict label:1.0\n",
      " True label：  1.0\n",
      "             ==>Predict label:1.0\n"
     ]
    }
   ],
   "source": [
    "AUC=evaluateModel(bestModel, testData)\n",
    "print \"AUC = \"+str(AUC)\n",
    "print \"\\n\"\n",
    "print(\"-----預測資料-----\")\n",
    "PredictData(testData,bestModel)"
   ]
  },
  {
   "cell_type": "code",
   "execution_count": 20,
   "metadata": {
    "collapsed": false
   },
   "outputs": [
    {
     "data": {
      "image/png": "[encoded data removed]",
      "text/plain": [
       "<matplotlib.figure.Figure at 0x7fcd2b81f790>"
      ]
     },
     "metadata": {},
     "output_type": "display_data"
    }
   ],
   "source": [
    "from sklearn import metrics\n",
    "import warnings;warnings.filterwarnings('ignore')\n",
    "import matplotlib.pyplot as plt\n",
    "%matplotlib inline \n",
    "\n",
    "y = [ i.label for i in testData.collect()]\n",
    "pred = [bestModel.predict(i.features) for i in testData.collect()]\n",
    "\n",
    "fpr, tpr, threshold = metrics.roc_curve(y, pred)\n",
    "roc_auc = metrics.auc(fpr, tpr)\n",
    "plt.figure(figsize=(5,5))\n",
    "plt.title('ROC for bestModel')\n",
    "plt.plot(fpr, tpr, 'b', label = 'AUC = %0.3f' % roc_auc)\n",
    "plt.legend(loc = 'lower right')\n",
    "plt.plot([0, 1], [0, 1],'r--')  # (0,0) (1,1)\n",
    "plt.ylabel('True Positive Rate')\n",
    "plt.xlabel('False Positive Rate')\n",
    "plt.show()"
   ]
  }
 ],
 "metadata": {
  "kernelspec": {
   "display_name": "Python 2",
   "language": "python",
   "name": "python2"
  },
  "language_info": {
   "codemirror_mode": {
    "name": "ipython",
    "version": 2
   },
   "file_extension": ".py",
   "mimetype": "text/x-python",
   "name": "python",
   "nbconvert_exporter": "python",
   "pygments_lexer": "ipython2",
   "version": "2.7.11"
  }
 },
 "nbformat": 4,
 "nbformat_minor": 0
}
