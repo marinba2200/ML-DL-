{
 "cells": [
  {
   "cell_type": "code",
   "execution_count": 8,
   "metadata": {
    "collapsed": false
   },
   "outputs": [
    {
     "data": {
      "text/plain": [
       "u'local[*]'"
      ]
     },
     "execution_count": 8,
     "metadata": {},
     "output_type": "execute_result"
    }
   ],
   "source": [
    "sc.master"
   ]
  },
  {
   "cell_type": "code",
   "execution_count": 9,
   "metadata": {
    "collapsed": true
   },
   "outputs": [],
   "source": [
    "global Path    \n",
    "if sc.master[0:5]==\"local\" :\n",
    "   Path=\"file:/home/hduser/pythonwork/PythonProject/\"\n",
    "else:   \n",
    "   Path=\"hdfs://master:9000/user/hduser/\""
   ]
  },
  {
   "cell_type": "code",
   "execution_count": 10,
   "metadata": {
    "collapsed": false
   },
   "outputs": [
    {
     "data": {
      "text/plain": [
       "30"
      ]
     },
     "execution_count": 10,
     "metadata": {},
     "output_type": "execute_result"
    }
   ],
   "source": [
    "rawUserData = sc.textFile(Path+\"log.txt\")\n",
    "rawUserData.count()"
   ]
  },
  {
   "cell_type": "code",
   "execution_count": 11,
   "metadata": {
    "collapsed": false
   },
   "outputs": [
    {
     "data": {
      "text/plain": [
       "[u'[2014/08/17 00:00:00] - This is test logC.',\n",
       " u'[2014/08/17 01:15:00] - This is test logA.',\n",
       " u'[2014/08/17 04:50:20] - This is test logB.',\n",
       " u'[2014/08/17 08:07:10] - This is test logA.',\n",
       " u'[2014/08/17 11:42:16] - This is test logB.',\n",
       " u'[2014/08/17 15:10:18] - This is test logB.',\n",
       " u'[2014/08/17 17:18:00] - This is test logA.',\n",
       " u'[2014/08/17 20:00:50] - This is test logA.',\n",
       " u'[2014/08/17 22:01:10] - This is test logB.',\n",
       " u'[2014/08/18 00:10:05] - This is test logC.']"
      ]
     },
     "execution_count": 11,
     "metadata": {},
     "output_type": "execute_result"
    }
   ],
   "source": [
    "rawUserData.take(10)"
   ]
  },
  {
   "cell_type": "code",
   "execution_count": 12,
   "metadata": {
    "collapsed": false
   },
   "outputs": [
    {
     "data": {
      "text/plain": [
       "[[u'[2014/08/17', u'00:00:00]', u'-', u'This', u'is', u'test', u'logC.'],\n",
       " [u'[2014/08/17', u'01:15:00]', u'-', u'This', u'is', u'test', u'logA.'],\n",
       " [u'[2014/08/17', u'04:50:20]', u'-', u'This', u'is', u'test', u'logB.'],\n",
       " [u'[2014/08/17', u'08:07:10]', u'-', u'This', u'is', u'test', u'logA.'],\n",
       " [u'[2014/08/17', u'11:42:16]', u'-', u'This', u'is', u'test', u'logB.']]"
      ]
     },
     "execution_count": 12,
     "metadata": {},
     "output_type": "execute_result"
    }
   ],
   "source": [
    "userRDD1=rawUserData.map(lambda line: line.split(\" \"))\n",
    "userRDD1.take(5)"
   ]
  },
  {
   "cell_type": "code",
   "execution_count": 13,
   "metadata": {
    "collapsed": false
   },
   "outputs": [
    {
     "data": {
      "text/plain": [
       "[Row(date=u'[2014/08/17', log=u'logC.', time=u'00:00:00]'),\n",
       " Row(date=u'[2014/08/17', log=u'logA.', time=u'01:15:00]'),\n",
       " Row(date=u'[2014/08/17', log=u'logB.', time=u'04:50:20]'),\n",
       " Row(date=u'[2014/08/17', log=u'logA.', time=u'08:07:10]'),\n",
       " Row(date=u'[2014/08/17', log=u'logB.', time=u'11:42:16]')]"
      ]
     },
     "execution_count": 13,
     "metadata": {},
     "output_type": "execute_result"
    }
   ],
   "source": [
    "sqlContext = SparkSession.builder.getOrCreate()\n",
    "from pyspark.sql import Row\n",
    "user_Rows1 = userRDD1.map(lambda p:\n",
    "     Row(\n",
    "         date=p[0], \n",
    "         time=p[1],\n",
    "         log=p[6]\n",
    "            )\n",
    ")\n",
    "user_Rows1.take(5)"
   ]
  },
  {
   "cell_type": "code",
   "execution_count": 14,
   "metadata": {
    "collapsed": false
   },
   "outputs": [
    {
     "name": "stdout",
     "output_type": "stream",
     "text": [
      "root\n",
      " |-- date: string (nullable = true)\n",
      " |-- log: string (nullable = true)\n",
      " |-- time: string (nullable = true)\n",
      "\n"
     ]
    }
   ],
   "source": [
    "user_df1= sqlContext.createDataFrame(user_Rows1)\n",
    "user_df1 .printSchema()"
   ]
  },
  {
   "cell_type": "code",
   "execution_count": 25,
   "metadata": {
    "collapsed": false
   },
   "outputs": [
    {
     "name": "stdout",
     "output_type": "stream",
     "text": [
      "+-----------+-----+---------+\n",
      "|       date|  log|     time|\n",
      "+-----------+-----+---------+\n",
      "|[2014/08/17|logC.|00:00:00]|\n",
      "|[2014/08/17|logA.|01:15:00]|\n",
      "|[2014/08/17|logB.|04:50:20]|\n",
      "|[2014/08/17|logA.|08:07:10]|\n",
      "|[2014/08/17|logB.|11:42:16]|\n",
      "|[2014/08/17|logB.|15:10:18]|\n",
      "|[2014/08/17|logA.|17:18:00]|\n",
      "|[2014/08/17|logA.|20:00:50]|\n",
      "|[2014/08/17|logB.|22:01:10]|\n",
      "|[2014/08/18|logC.|00:10:05]|\n",
      "|[2014/08/18|logC.|02:20:10]|\n",
      "|[2014/08/18|logB.|04:30:15]|\n",
      "|[2014/08/18|logB.|10:40:20]|\n",
      "|[2014/08/18|logB.|18:50:22]|\n",
      "|[2014/08/19|logA.|03:33:00]|\n",
      "|[2014/08/19|logB.|07:17:15]|\n",
      "|[2014/08/19|logA.|09:20:05]|\n",
      "|[2014/08/19|logC.|09:30:03]|\n",
      "|[2014/08/19|logA.|12:00:17]|\n",
      "|[2014/08/19|logB.|13:00:47]|\n",
      "+-----------+-----+---------+\n",
      "only showing top 20 rows\n",
      "\n"
     ]
    }
   ],
   "source": [
    "user_df1.show()"
   ]
  },
  {
   "cell_type": "code",
   "execution_count": 24,
   "metadata": {
    "collapsed": false
   },
   "outputs": [
    {
     "name": "stdout",
     "output_type": "stream",
     "text": [
      "+-----------+-----+-----+\n",
      "|       date|  log|count|\n",
      "+-----------+-----+-----+\n",
      "|[2014/08/18|logC.|    2|\n",
      "|[2014/08/17|logA.|    4|\n",
      "|[2014/08/19|logC.|    3|\n",
      "|[2014/08/19|logA.|    6|\n",
      "|[2014/08/17|logB.|    4|\n",
      "|[2014/08/18|logB.|    3|\n",
      "|[2014/08/17|logC.|    1|\n",
      "|[2014/08/19|logB.|    3|\n",
      "|[2014/08/20|logA.|    3|\n",
      "|[2014/08/20|logC.|    1|\n",
      "+-----------+-----+-----+\n",
      "\n"
     ]
    }
   ],
   "source": [
    "jdf=user_df1.select(\"date\",\"log\").groupby(\"date\",\"log\").count()\n",
    "jdf.show()"
   ]
  },
  {
   "cell_type": "code",
   "execution_count": 50,
   "metadata": {
    "collapsed": false
   },
   "outputs": [
    {
     "name": "stdout",
     "output_type": "stream",
     "text": [
      "+-----------+-----+-----+\n",
      "|       date|  log|count|\n",
      "+-----------+-----+-----+\n",
      "|[2014/08/19|logC.|    3|\n",
      "|[2014/08/19|logA.|    6|\n",
      "|[2014/08/19|logB.|    3|\n",
      "|[2014/08/20|logA.|    3|\n",
      "|[2014/08/20|logC.|    1|\n",
      "+-----------+-----+-----+\n",
      "\n"
     ]
    }
   ],
   "source": [
    "jdf2=jdf.filter(\"date='[2014/08/19' or date='[2014/08/20' \")\n",
    "jdf2.show()"
   ]
  },
  {
   "cell_type": "code",
   "execution_count": 51,
   "metadata": {
    "collapsed": false
   },
   "outputs": [
    {
     "name": "stdout",
     "output_type": "stream",
     "text": [
      "+-----------+-----+-----+\n",
      "|       date|  log|count|\n",
      "+-----------+-----+-----+\n",
      "|[2014/08/19|logA.|    6|\n",
      "|[2014/08/20|logA.|    3|\n",
      "+-----------+-----+-----+\n",
      "\n"
     ]
    }
   ],
   "source": [
    "jdf3=jdf2.filter(\" log='logA.' \")\n",
    "jdf3.show()"
   ]
  },
  {
   "cell_type": "code",
   "execution_count": 52,
   "metadata": {
    "collapsed": false
   },
   "outputs": [
    {
     "data": {
      "text/html": [
       "<div>\n",
       "<table border=\"1\" class=\"dataframe\">\n",
       "  <thead>\n",
       "    <tr style=\"text-align: right;\">\n",
       "      <th></th>\n",
       "      <th>log</th>\n",
       "      <th>count</th>\n",
       "    </tr>\n",
       "    <tr>\n",
       "      <th>date</th>\n",
       "      <th></th>\n",
       "      <th></th>\n",
       "    </tr>\n",
       "  </thead>\n",
       "  <tbody>\n",
       "    <tr>\n",
       "      <th>[2014/08/19</th>\n",
       "      <td>logA.</td>\n",
       "      <td>6</td>\n",
       "    </tr>\n",
       "    <tr>\n",
       "      <th>[2014/08/20</th>\n",
       "      <td>logA.</td>\n",
       "      <td>3</td>\n",
       "    </tr>\n",
       "  </tbody>\n",
       "</table>\n",
       "</div>"
      ],
      "text/plain": [
       "               log  count\n",
       "date                     \n",
       "[2014/08/19  logA.      6\n",
       "[2014/08/20  logA.      3"
      ]
     },
     "execution_count": 52,
     "metadata": {},
     "output_type": "execute_result"
    }
   ],
   "source": [
    "import pandas as pd\n",
    "GroupBydate_pandas_df =jdf3.toPandas().set_index('date')\n",
    "GroupBydate_pandas_df "
   ]
  },
  {
   "cell_type": "code",
   "execution_count": 53,
   "metadata": {
    "collapsed": false
   },
   "outputs": [
    {
     "data": {
      "image/png": "[encoded data removed]",
      "text/plain": [
       "<matplotlib.figure.Figure at 0x7fa3d374c3d0>"
      ]
     },
     "metadata": {},
     "output_type": "display_data"
    }
   ],
   "source": [
    "import matplotlib.pyplot as plt\n",
    "%matplotlib inline\n",
    "ax = GroupBydate_pandas_df ['count']  \\\n",
    "            .plot(kind='bar', title =\"sum_by_supplier\",figsize=(12,6),legend=True, fontsize=12)\n",
    "plt.show()"
   ]
  },
  {
   "cell_type": "code",
   "execution_count": 54,
   "metadata": {
    "collapsed": false
   },
   "outputs": [
    {
     "data": {
      "image/png": "[encoded data removed]",
      "text/plain": [
       "<matplotlib.figure.Figure at 0x7fa3c61f9410>"
      ]
     },
     "metadata": {},
     "output_type": "display_data"
    }
   ],
   "source": [
    "%matplotlib inline\n",
    "# ax = GroupBypid_pandas_df ['sum(amount)']  \\\n",
    "#             .plot(kind='pie', title =\"sum_by_pname\",figsize=(12,6),legend=True, fontsize=12)\n",
    "# plt.show()\n",
    "\n",
    "ax =GroupBydate_pandas_df ['count'].plot(kind='pie',\n",
    "           title =\"sum_by_pid\",figsize=(8,8),startangle=90,autopct='%1.1f%%')\n",
    "ax.legend(bbox_to_anchor=(1.05, 1), loc=2, borderaxespad=0.)\n",
    "plt.show()"
   ]
  },
  {
   "cell_type": "code",
   "execution_count": null,
   "metadata": {
    "collapsed": true
   },
   "outputs": [],
   "source": []
  }
 ],
 "metadata": {
  "kernelspec": {
   "display_name": "Python 2",
   "language": "python",
   "name": "python2"
  },
  "language_info": {
   "codemirror_mode": {
    "name": "ipython",
    "version": 2
   },
   "file_extension": ".py",
   "mimetype": "text/x-python",
   "name": "python",
   "nbconvert_exporter": "python",
   "pygments_lexer": "ipython2",
   "version": "2.7.11"
  }
 },
 "nbformat": 4,
 "nbformat_minor": 0
}
