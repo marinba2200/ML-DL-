{
 "cells": [
  {
   "cell_type": "code",
   "execution_count": 1,
   "metadata": {
    "collapsed": true
   },
   "outputs": [],
   "source": [
    "##from pyspark import SparkContext\n",
    "##sc =SparkContext(\"local[*]\")"
   ]
  },
  {
   "cell_type": "code",
   "execution_count": 2,
   "metadata": {
    "collapsed": false
   },
   "outputs": [
    {
     "data": {
      "text/plain": [
       "u'local[*]'"
      ]
     },
     "execution_count": 2,
     "metadata": {},
     "output_type": "execute_result"
    }
   ],
   "source": [
    "sc.master"
   ]
  },
  {
   "cell_type": "code",
   "execution_count": 3,
   "metadata": {
    "collapsed": true
   },
   "outputs": [],
   "source": [
    "global Path    \n",
    "if sc.master[0:5]==\"local\" :\n",
    "   Path=\"file:/home/hduser/pythonwork/PythonProject/\"\n",
    "else:   \n",
    "   Path=\"hdfs://master:9000/user/hduser/\"\n",
    "#如果您要在cluster模式執行(hadoop yarn 或Spark Stand alone)，請依照書上說明，先上傳檔案至HDFS目錄"
   ]
  },
  {
   "cell_type": "code",
   "execution_count": 4,
   "metadata": {
    "collapsed": false
   },
   "outputs": [
    {
     "name": "stdout",
     "output_type": "stream",
     "text": [
      "開始匯入資料...\n"
     ]
    },
    {
     "data": {
      "text/plain": [
       "[u'X1,X2, X3,Y', u'-48.2,6.8,1.6,0']"
      ]
     },
     "execution_count": 4,
     "metadata": {},
     "output_type": "execute_result"
    }
   ],
   "source": [
    "print(\"開始匯入資料...\")\n",
    "rawDataWithHeader = sc.textFile(Path+\"bank.csv\")\n",
    "rawDataWithHeader.take(2)"
   ]
  },
  {
   "cell_type": "code",
   "execution_count": 5,
   "metadata": {
    "collapsed": false
   },
   "outputs": [
    {
     "name": "stdout",
     "output_type": "stream",
     "text": [
      "共計：30筆\n"
     ]
    }
   ],
   "source": [
    "header = rawDataWithHeader.first() \n",
    "rData = rawDataWithHeader.filter(lambda x:x !=header)  \n",
    "lines = rData.map(lambda x: x.split(\",\"))\n",
    "print(\"共計：\" + str(lines.count()) + \"筆\")"
   ]
  },
  {
   "cell_type": "code",
   "execution_count": 6,
   "metadata": {
    "collapsed": false
   },
   "outputs": [
    {
     "data": {
      "text/plain": [
       "[[u'-48.2', u'6.8', u'1.6', u'0'],\n",
       " [u'-49.2', u'-17.2', u'0.3', u'0'],\n",
       " [u'-19.2', u'-36.7', u'0.8', u'0'],\n",
       " [u'-18.1', u'-6.5', u'0.9', u'0'],\n",
       " [u'-98', u'-20.8', u'1.7', u'0'],\n",
       " [u'-129', u'-14.2', u'1.3', u'0'],\n",
       " [u'-4', u'-15.8', u'2.1', u'0'],\n",
       " [u'-8.7', u'-36.3', u'2.8', u'0'],\n",
       " [u'-59.2', u'-12.8', u'2.1', u'0'],\n",
       " [u'-13.1', u'-17.6', u'0.9', u'0'],\n",
       " [u'-38', u'1.6', u'1.2', u'0'],\n",
       " [u'-57.9', u'0.7', u'0.8', u'0'],\n",
       " [u'-8.8', u'-9.1', u'0.9', u'0'],\n",
       " [u'-64.7', u'-4', u'0.1', u'0'],\n",
       " [u'-11.4', u'4.8', u'0.9', u'0'],\n",
       " [u'43', u'16.4', u'1.3', u'1'],\n",
       " [u'47', u'16', u'1.9', u'1'],\n",
       " [u'-3.3', u'4', u'2.7', u'1'],\n",
       " [u'35', u'20.8', u'1.9', u'1'],\n",
       " [u'46.7', u'12.6', u'0.9', u'1'],\n",
       " [u'20.8', u'12.5', u'2.4', u'1'],\n",
       " [u'33', u'23.6', u'1.5', u'1'],\n",
       " [u'26.1', u'10.4', u'2.1', u'1'],\n",
       " [u'68.6', u'13.8', u'1.6', u'1'],\n",
       " [u'37.3', u'33.4', u'3.5', u'1'],\n",
       " [u'59', u'23.1', u'5.5', u'1'],\n",
       " [u'49.6', u'23.8', u'1.9', u'1'],\n",
       " [u'12.5', u'7', u'1.8', u'1'],\n",
       " [u'37.3', u'34.1', u'1.5', u'1'],\n",
       " [u'35.3', u'4.2', u'0.9', u'1']]"
      ]
     },
     "execution_count": 6,
     "metadata": {},
     "output_type": "execute_result"
    }
   ],
   "source": [
    "lines.collect()"
   ]
  },
  {
   "cell_type": "code",
   "execution_count": 7,
   "metadata": {
    "collapsed": true
   },
   "outputs": [],
   "source": [
    "import numpy as np\n",
    "def extract_features(field,featureEnd):\n",
    "    #擷取分類特徵欄位\n",
    "       #第3个欄位不是特徵欄位\n",
    "    numericalFeatures=[float(id)  for  id in field[0:2]]    \n",
    "    #回傳「分類特徵欄位」\n",
    "    return numericalFeatures"
   ]
  },
  {
   "cell_type": "code",
   "execution_count": 8,
   "metadata": {
    "collapsed": true
   },
   "outputs": [],
   "source": [
    "def extract_label(field):\n",
    "    label=(field[-1])\n",
    "    return float(label)"
   ]
  },
  {
   "cell_type": "code",
   "execution_count": 13,
   "metadata": {
    "collapsed": false
   },
   "outputs": [
    {
     "name": "stdout",
     "output_type": "stream",
     "text": [
      "[0.0, 0.0, 0.0, 0.0, 0.0, 0.0, 0.0, 0.0, 0.0, 0.0, 0.0, 0.0, 0.0, 0.0, 0.0, 1.0, 1.0, 1.0, 1.0, 1.0, 1.0, 1.0, 1.0, 1.0, 1.0, 1.0, 1.0, 1.0, 1.0, 1.0]\n"
     ]
    }
   ],
   "source": [
    "labelRDD = lines.map( lambda r: extract_label(r))\n",
    "print labelRDD.collect()"
   ]
  },
  {
   "cell_type": "code",
   "execution_count": 14,
   "metadata": {
    "collapsed": true
   },
   "outputs": [],
   "source": [
    "from pyspark.mllib.regression import LabeledPoint\n",
    "labelpointRDD = lines.map( lambda r: \n",
    "     LabeledPoint(\n",
    "                extract_label(r),\n",
    "                extract_features(r,len(r) - 1)))"
   ]
  },
  {
   "cell_type": "code",
   "execution_count": 15,
   "metadata": {
    "collapsed": false
   },
   "outputs": [
    {
     "data": {
      "text/plain": [
       "PythonRDD[11] at RDD at PythonRDD.scala:48"
      ]
     },
     "execution_count": 15,
     "metadata": {},
     "output_type": "execute_result"
    }
   ],
   "source": [
    "labelpointRDD.take(2)\n",
    "trainData=labelpointRDD\n",
    "trainData.persist()"
   ]
  },
  {
   "cell_type": "code",
   "execution_count": 16,
   "metadata": {
    "collapsed": true
   },
   "outputs": [],
   "source": [
    "from pyspark.mllib.tree import DecisionTree\n",
    "model=DecisionTree.trainClassifier( \\\n",
    "        trainData, numClasses=2, categoricalFeaturesInfo={}, \\\n",
    "        impurity=\"entropy\", maxDepth=5, maxBins=5)"
   ]
  },
  {
   "cell_type": "code",
   "execution_count": 18,
   "metadata": {
    "collapsed": false
   },
   "outputs": [],
   "source": [
    "predictResult = model.predict([-25,2.5,0.5])  ###(X1,X2,X3) = [-25,2.5,0.5]"
   ]
  },
  {
   "cell_type": "code",
   "execution_count": 19,
   "metadata": {
    "collapsed": false
   },
   "outputs": [
    {
     "data": {
      "text/plain": [
       "0.0"
      ]
     },
     "execution_count": 19,
     "metadata": {},
     "output_type": "execute_result"
    }
   ],
   "source": [
    "predictResult"
   ]
  },
  {
   "cell_type": "code",
   "execution_count": null,
   "metadata": {
    "collapsed": true
   },
   "outputs": [],
   "source": []
  }
 ],
 "metadata": {
  "kernelspec": {
   "display_name": "Python 2",
   "language": "python",
   "name": "python2"
  },
  "language_info": {
   "codemirror_mode": {
    "name": "ipython",
    "version": 2
   },
   "file_extension": ".py",
   "mimetype": "text/x-python",
   "name": "python",
   "nbconvert_exporter": "python",
   "pygments_lexer": "ipython2",
   "version": "2.7.11"
  }
 },
 "nbformat": 4,
 "nbformat_minor": 0
}
