{
 "cells": [
  {
   "cell_type": "code",
   "execution_count": 1,
   "metadata": {
    "collapsed": false
   },
   "outputs": [
    {
     "ename": "ValueError",
     "evalue": "Cannot run multiple SparkContexts at once; existing SparkContext(app=PySparkShell, master=local[*]) created by <module> at /home/hduser/anaconda2/lib/python2.7/site-packages/IPython/utils/py3compat.py:286 ",
     "output_type": "error",
     "traceback": [
      "\u001b[1;31m---------------------------------------------------------------------------\u001b[0m",
      "\u001b[1;31mValueError\u001b[0m                                Traceback (most recent call last)",
      "\u001b[1;32m<ipython-input-1-cfa56238a156>\u001b[0m in \u001b[0;36m<module>\u001b[1;34m()\u001b[0m\n\u001b[0;32m      1\u001b[0m \u001b[1;32mfrom\u001b[0m \u001b[0mpyspark\u001b[0m \u001b[1;32mimport\u001b[0m \u001b[0mSparkContext\u001b[0m\u001b[1;33m\u001b[0m\u001b[0m\n\u001b[1;32m----> 2\u001b[1;33m \u001b[0msc\u001b[0m\u001b[1;33m=\u001b[0m\u001b[0mSparkContext\u001b[0m\u001b[1;33m(\u001b[0m\u001b[1;34m\"local[*]\"\u001b[0m\u001b[1;33m)\u001b[0m\u001b[1;33m\u001b[0m\u001b[0m\n\u001b[0m",
      "\u001b[1;32m/usr/local/spark/python/pyspark/context.pyc\u001b[0m in \u001b[0;36m__init__\u001b[1;34m(self, master, appName, sparkHome, pyFiles, environment, batchSize, serializer, conf, gateway, jsc, profiler_cls)\u001b[0m\n\u001b[0;32m    110\u001b[0m         \"\"\"\n\u001b[0;32m    111\u001b[0m         \u001b[0mself\u001b[0m\u001b[1;33m.\u001b[0m\u001b[0m_callsite\u001b[0m \u001b[1;33m=\u001b[0m \u001b[0mfirst_spark_call\u001b[0m\u001b[1;33m(\u001b[0m\u001b[1;33m)\u001b[0m \u001b[1;32mor\u001b[0m \u001b[0mCallSite\u001b[0m\u001b[1;33m(\u001b[0m\u001b[0mNone\u001b[0m\u001b[1;33m,\u001b[0m \u001b[0mNone\u001b[0m\u001b[1;33m,\u001b[0m \u001b[0mNone\u001b[0m\u001b[1;33m)\u001b[0m\u001b[1;33m\u001b[0m\u001b[0m\n\u001b[1;32m--> 112\u001b[1;33m         \u001b[0mSparkContext\u001b[0m\u001b[1;33m.\u001b[0m\u001b[0m_ensure_initialized\u001b[0m\u001b[1;33m(\u001b[0m\u001b[0mself\u001b[0m\u001b[1;33m,\u001b[0m \u001b[0mgateway\u001b[0m\u001b[1;33m=\u001b[0m\u001b[0mgateway\u001b[0m\u001b[1;33m)\u001b[0m\u001b[1;33m\u001b[0m\u001b[0m\n\u001b[0m\u001b[0;32m    113\u001b[0m         \u001b[1;32mtry\u001b[0m\u001b[1;33m:\u001b[0m\u001b[1;33m\u001b[0m\u001b[0m\n\u001b[0;32m    114\u001b[0m             self._do_init(master, appName, sparkHome, pyFiles, environment, batchSize, serializer,\n",
      "\u001b[1;32m/usr/local/spark/python/pyspark/context.pyc\u001b[0m in \u001b[0;36m_ensure_initialized\u001b[1;34m(cls, instance, gateway)\u001b[0m\n\u001b[0;32m    257\u001b[0m                         \u001b[1;34m\" created by %s at %s:%s \"\u001b[0m\u001b[1;33m\u001b[0m\u001b[0m\n\u001b[0;32m    258\u001b[0m                         % (currentAppName, currentMaster,\n\u001b[1;32m--> 259\u001b[1;33m                             callsite.function, callsite.file, callsite.linenum))\n\u001b[0m\u001b[0;32m    260\u001b[0m                 \u001b[1;32melse\u001b[0m\u001b[1;33m:\u001b[0m\u001b[1;33m\u001b[0m\u001b[0m\n\u001b[0;32m    261\u001b[0m                     \u001b[0mSparkContext\u001b[0m\u001b[1;33m.\u001b[0m\u001b[0m_active_spark_context\u001b[0m \u001b[1;33m=\u001b[0m \u001b[0minstance\u001b[0m\u001b[1;33m\u001b[0m\u001b[0m\n",
      "\u001b[1;31mValueError\u001b[0m: Cannot run multiple SparkContexts at once; existing SparkContext(app=PySparkShell, master=local[*]) created by <module> at /home/hduser/anaconda2/lib/python2.7/site-packages/IPython/utils/py3compat.py:286 "
     ]
    }
   ],
   "source": [
    "from pyspark import SparkContext\n",
    "sc=SparkContext(\"local[*]\")"
   ]
  },
  {
   "cell_type": "code",
   "execution_count": 1,
   "metadata": {
    "collapsed": false
   },
   "outputs": [],
   "source": [
    "sc.master\n",
    "global Path    \n",
    "if sc.master[0:5]==\"local\" :\n",
    "   Path=\"file:/home/hduser/pythonwork/PythonProject/\"\n",
    "else:   \n",
    "   Path=\"hdfs://master:9000/user/hduser/\""
   ]
  },
  {
   "cell_type": "code",
   "execution_count": 2,
   "metadata": {
    "collapsed": false
   },
   "outputs": [
    {
     "data": {
      "text/plain": [
       "[u's1,Smith,London',\n",
       " u's2,Jones,Paris',\n",
       " u's3,Blake,Paris',\n",
       " u's4,Clark,London',\n",
       " u's5,Adams,Athens']"
      ]
     },
     "execution_count": 2,
     "metadata": {},
     "output_type": "execute_result"
    }
   ],
   "source": [
    "RawUserRDD1= sc.textFile(Path+\"suppliers.csv\")\n",
    "RawUserRDD1.take(5)"
   ]
  },
  {
   "cell_type": "code",
   "execution_count": 3,
   "metadata": {
    "collapsed": false
   },
   "outputs": [
    {
     "data": {
      "text/plain": [
       "[[u's1', u'Smith', u'London'],\n",
       " [u's2', u'Jones', u'Paris'],\n",
       " [u's3', u'Blake', u'Paris'],\n",
       " [u's4', u'Clark', u'London'],\n",
       " [u's5', u'Adams', u'Athens']]"
      ]
     },
     "execution_count": 3,
     "metadata": {},
     "output_type": "execute_result"
    }
   ],
   "source": [
    "userRDD1 =RawUserRDD1.map(lambda line: line.split(\",\"))\n",
    "userRDD1 .take(5)"
   ]
  },
  {
   "cell_type": "code",
   "execution_count": 4,
   "metadata": {
    "collapsed": false
   },
   "outputs": [
    {
     "data": {
      "text/plain": [
       "[Row(location=u'London', sid=u's1', sname=u'Smith'),\n",
       " Row(location=u'Paris', sid=u's2', sname=u'Jones'),\n",
       " Row(location=u'Paris', sid=u's3', sname=u'Blake'),\n",
       " Row(location=u'London', sid=u's4', sname=u'Clark'),\n",
       " Row(location=u'Athens', sid=u's5', sname=u'Adams')]"
      ]
     },
     "execution_count": 4,
     "metadata": {},
     "output_type": "execute_result"
    }
   ],
   "source": [
    "sqlContext = SparkSession.builder.getOrCreate()\n",
    "from pyspark.sql import Row\n",
    "user_Rows1 = userRDD1.map(lambda p:\n",
    "     Row(\n",
    "         sid=p[0], \n",
    "         sname=p[1],\n",
    "         location=p[2]\n",
    "            )\n",
    ")\n",
    "user_Rows1.take(5)"
   ]
  },
  {
   "cell_type": "code",
   "execution_count": 5,
   "metadata": {
    "collapsed": false
   },
   "outputs": [
    {
     "name": "stdout",
     "output_type": "stream",
     "text": [
      "root\n",
      " |-- location: string (nullable = true)\n",
      " |-- sid: string (nullable = true)\n",
      " |-- sname: string (nullable = true)\n",
      "\n"
     ]
    }
   ],
   "source": [
    "user_df1= sqlContext.createDataFrame(user_Rows1)\n",
    "user_df1 .printSchema()"
   ]
  },
  {
   "cell_type": "code",
   "execution_count": 6,
   "metadata": {
    "collapsed": false
   },
   "outputs": [
    {
     "name": "stdout",
     "output_type": "stream",
     "text": [
      "+--------+---+-----+\n",
      "|location|sid|sname|\n",
      "+--------+---+-----+\n",
      "|  London| s1|Smith|\n",
      "|   Paris| s2|Jones|\n",
      "|   Paris| s3|Blake|\n",
      "|  London| s4|Clark|\n",
      "|  Athens| s5|Adams|\n",
      "+--------+---+-----+\n",
      "\n"
     ]
    }
   ],
   "source": [
    "user_df1.show(5)"
   ]
  },
  {
   "cell_type": "code",
   "execution_count": 7,
   "metadata": {
    "collapsed": true
   },
   "outputs": [],
   "source": [
    "user_df1.registerTempTable(\"suppliers\")"
   ]
  },
  {
   "cell_type": "code",
   "execution_count": 8,
   "metadata": {
    "collapsed": false
   },
   "outputs": [
    {
     "name": "stdout",
     "output_type": "stream",
     "text": [
      "+--------+---+-----+\n",
      "|location|sid|sname|\n",
      "+--------+---+-----+\n",
      "|  London| s1|Smith|\n",
      "|   Paris| s2|Jones|\n",
      "|   Paris| s3|Blake|\n",
      "|  London| s4|Clark|\n",
      "|  Athens| s5|Adams|\n",
      "+--------+---+-----+\n",
      "\n"
     ]
    }
   ],
   "source": [
    "sqlContext.sql(\" SELECT *  FROM suppliers \").show()"
   ]
  },
  {
   "cell_type": "code",
   "execution_count": 10,
   "metadata": {
    "collapsed": false
   },
   "outputs": [
    {
     "data": {
      "text/plain": [
       "[u's1,p1,200', u's2,p3,400', u's2,p5,100', u's3,p2,200', u's3,p4,500']"
      ]
     },
     "execution_count": 10,
     "metadata": {},
     "output_type": "execute_result"
    }
   ],
   "source": [
    "RawUserRDD2= sc.textFile(Path+\"catalog.csv\")\n",
    "RawUserRDD2.take(5)"
   ]
  },
  {
   "cell_type": "code",
   "execution_count": 11,
   "metadata": {
    "collapsed": false
   },
   "outputs": [
    {
     "data": {
      "text/plain": [
       "[[u's1', u'p1', u'200'],\n",
       " [u's2', u'p3', u'400'],\n",
       " [u's2', u'p5', u'100'],\n",
       " [u's3', u'p2', u'200'],\n",
       " [u's3', u'p4', u'500']]"
      ]
     },
     "execution_count": 11,
     "metadata": {},
     "output_type": "execute_result"
    }
   ],
   "source": [
    "userRDD2 =RawUserRDD2.map(lambda line: line.split(\",\"))\n",
    "userRDD2 .take(5)"
   ]
  },
  {
   "cell_type": "code",
   "execution_count": 12,
   "metadata": {
    "collapsed": false
   },
   "outputs": [
    {
     "data": {
      "text/plain": [
       "[Row(amount=200, pid=u'p1', sid=u's1'),\n",
       " Row(amount=400, pid=u'p3', sid=u's2'),\n",
       " Row(amount=100, pid=u'p5', sid=u's2'),\n",
       " Row(amount=200, pid=u'p2', sid=u's3'),\n",
       " Row(amount=500, pid=u'p4', sid=u's3')]"
      ]
     },
     "execution_count": 12,
     "metadata": {},
     "output_type": "execute_result"
    }
   ],
   "source": [
    "sqlContext = SparkSession.builder.getOrCreate()\n",
    "from pyspark.sql import Row\n",
    "user_Rows2 = userRDD2.map(lambda p:\n",
    "     Row(\n",
    "         sid=p[0], \n",
    "         pid=p[1],\n",
    "         amount=int(p[2])\n",
    "            )\n",
    ")\n",
    "user_Rows2.take(5)"
   ]
  },
  {
   "cell_type": "code",
   "execution_count": 13,
   "metadata": {
    "collapsed": false
   },
   "outputs": [
    {
     "name": "stdout",
     "output_type": "stream",
     "text": [
      "root\n",
      " |-- amount: long (nullable = true)\n",
      " |-- pid: string (nullable = true)\n",
      " |-- sid: string (nullable = true)\n",
      "\n"
     ]
    }
   ],
   "source": [
    "user_df2= sqlContext.createDataFrame(user_Rows2)\n",
    "user_df2 .printSchema()"
   ]
  },
  {
   "cell_type": "code",
   "execution_count": 14,
   "metadata": {
    "collapsed": true
   },
   "outputs": [],
   "source": [
    "user_df2.registerTempTable(\"catalog\")"
   ]
  },
  {
   "cell_type": "code",
   "execution_count": 15,
   "metadata": {
    "collapsed": false
   },
   "outputs": [
    {
     "name": "stdout",
     "output_type": "stream",
     "text": [
      "root\n",
      " |-- location: string (nullable = true)\n",
      " |-- sid: string (nullable = true)\n",
      " |-- sname: string (nullable = true)\n",
      " |-- amount: long (nullable = true)\n",
      " |-- pid: string (nullable = true)\n",
      " |-- sid: string (nullable = true)\n",
      "\n"
     ]
    }
   ],
   "source": [
    "joined_df=user_df1.join(user_df2 ,  \\\n",
    "                                 user_df1.sid == user_df2.sid, \"left_outer\")\n",
    "\n",
    "joined_df.printSchema()    "
   ]
  },
  {
   "cell_type": "code",
   "execution_count": 16,
   "metadata": {
    "collapsed": false
   },
   "outputs": [
    {
     "name": "stdout",
     "output_type": "stream",
     "text": [
      "+------+---+---+\n",
      "|amount|pid|sid|\n",
      "+------+---+---+\n",
      "|   200| p1| s1|\n",
      "|   400| p3| s2|\n",
      "|   100| p5| s2|\n",
      "|   200| p2| s3|\n",
      "|   500| p4| s3|\n",
      "|   300| p6| s4|\n",
      "|   100| p2| s5|\n",
      "|   500| p5| s5|\n",
      "|   200| p6| s5|\n",
      "|   100| p1| s5|\n",
      "|   200| p3| s5|\n",
      "|   800| p4| s5|\n",
      "+------+---+---+\n",
      "\n"
     ]
    }
   ],
   "source": [
    "sqlContext.sql(\" SELECT *  FROM catalog \").show()"
   ]
  },
  {
   "cell_type": "code",
   "execution_count": 34,
   "metadata": {
    "collapsed": false
   },
   "outputs": [
    {
     "name": "stdout",
     "output_type": "stream",
     "text": [
      "+--------+---+-----+------+---+---+\n",
      "|location|sid|sname|amount|pid|sid|\n",
      "+--------+---+-----+------+---+---+\n",
      "|  London| s4|Clark|   300| p6| s4|\n",
      "|  Athens| s5|Adams|   100| p2| s5|\n",
      "|  Athens| s5|Adams|   500| p5| s5|\n",
      "|  Athens| s5|Adams|   200| p6| s5|\n",
      "|  Athens| s5|Adams|   100| p1| s5|\n",
      "|  Athens| s5|Adams|   200| p3| s5|\n",
      "|  Athens| s5|Adams|   800| p4| s5|\n",
      "|   Paris| s2|Jones|   400| p3| s2|\n",
      "|   Paris| s2|Jones|   100| p5| s2|\n",
      "|   Paris| s3|Blake|   200| p2| s3|\n",
      "|   Paris| s3|Blake|   500| p4| s3|\n",
      "|  London| s1|Smith|   200| p1| s1|\n",
      "+--------+---+-----+------+---+---+\n",
      "\n"
     ]
    }
   ],
   "source": [
    "joined_df.show()\n"
   ]
  },
  {
   "cell_type": "code",
   "execution_count": 31,
   "metadata": {
    "collapsed": false
   },
   "outputs": [
    {
     "name": "stdout",
     "output_type": "stream",
     "text": [
      "+-----+-----+\n",
      "|sname|count|\n",
      "+-----+-----+\n",
      "|Jones|    2|\n",
      "|Smith|    1|\n",
      "|Blake|    2|\n",
      "|Adams|    6|\n",
      "|Clark|    1|\n",
      "+-----+-----+\n",
      "\n"
     ]
    }
   ],
   "source": [
    "jdf=joined_df.select(\"sname\",\"amount\").groupby(\"sname\").count()\n",
    "jdf.show(10)\n"
   ]
  },
  {
   "cell_type": "code",
   "execution_count": 32,
   "metadata": {
    "collapsed": false
   },
   "outputs": [
    {
     "data": {
      "text/html": [
       "<div>\n",
       "<table border=\"1\" class=\"dataframe\">\n",
       "  <thead>\n",
       "    <tr style=\"text-align: right;\">\n",
       "      <th></th>\n",
       "      <th>count</th>\n",
       "    </tr>\n",
       "    <tr>\n",
       "      <th>sname</th>\n",
       "      <th></th>\n",
       "    </tr>\n",
       "  </thead>\n",
       "  <tbody>\n",
       "    <tr>\n",
       "      <th>Jones</th>\n",
       "      <td>2</td>\n",
       "    </tr>\n",
       "    <tr>\n",
       "      <th>Smith</th>\n",
       "      <td>1</td>\n",
       "    </tr>\n",
       "    <tr>\n",
       "      <th>Blake</th>\n",
       "      <td>2</td>\n",
       "    </tr>\n",
       "    <tr>\n",
       "      <th>Adams</th>\n",
       "      <td>6</td>\n",
       "    </tr>\n",
       "    <tr>\n",
       "      <th>Clark</th>\n",
       "      <td>1</td>\n",
       "    </tr>\n",
       "  </tbody>\n",
       "</table>\n",
       "</div>"
      ],
      "text/plain": [
       "       count\n",
       "sname       \n",
       "Jones      2\n",
       "Smith      1\n",
       "Blake      2\n",
       "Adams      6\n",
       "Clark      1"
      ]
     },
     "execution_count": 32,
     "metadata": {},
     "output_type": "execute_result"
    }
   ],
   "source": [
    "import pandas as pd\n",
    "GroupBysname_pandas_df =jdf.toPandas().set_index('sname')\n",
    "GroupBysname_pandas_df"
   ]
  },
  {
   "cell_type": "code",
   "execution_count": 33,
   "metadata": {
    "collapsed": false,
    "scrolled": true
   },
   "outputs": [
    {
     "data": {
      "image/png": "[encoded data removed]",
      "text/plain": [
       "<matplotlib.figure.Figure at 0x7f6f14c86610>"
      ]
     },
     "metadata": {},
     "output_type": "display_data"
    }
   ],
   "source": [
    "import matplotlib.pyplot as plt\n",
    "%matplotlib inline\n",
    "ax = GroupBysname_pandas_df ['count']  \\\n",
    "            .plot(kind='bar', title =\"sum_by_supplier\",figsize=(12,6),legend=True, fontsize=12)\n",
    "plt.show()"
   ]
  },
  {
   "cell_type": "code",
   "execution_count": 21,
   "metadata": {
    "collapsed": false
   },
   "outputs": [
    {
     "name": "stdout",
     "output_type": "stream",
     "text": [
      "+---+-----------+\n",
      "|pid|sum(amount)|\n",
      "+---+-----------+\n",
      "| p5|        600|\n",
      "| p2|        300|\n",
      "| p6|        500|\n",
      "| p1|        300|\n",
      "| p3|        600|\n",
      "| p4|       1300|\n",
      "+---+-----------+\n",
      "\n"
     ]
    }
   ],
   "source": [
    "jdf2=joined_df.select(\"pid\",\"amount\").groupby(\"pid\").sum(\"amount\")\n",
    "jdf2.show(10)"
   ]
  },
  {
   "cell_type": "code",
   "execution_count": 22,
   "metadata": {
    "collapsed": false
   },
   "outputs": [
    {
     "data": {
      "text/html": [
       "<div>\n",
       "<table border=\"1\" class=\"dataframe\">\n",
       "  <thead>\n",
       "    <tr style=\"text-align: right;\">\n",
       "      <th></th>\n",
       "      <th>sum(amount)</th>\n",
       "    </tr>\n",
       "    <tr>\n",
       "      <th>pid</th>\n",
       "      <th></th>\n",
       "    </tr>\n",
       "  </thead>\n",
       "  <tbody>\n",
       "    <tr>\n",
       "      <th>p5</th>\n",
       "      <td>600</td>\n",
       "    </tr>\n",
       "    <tr>\n",
       "      <th>p2</th>\n",
       "      <td>300</td>\n",
       "    </tr>\n",
       "    <tr>\n",
       "      <th>p6</th>\n",
       "      <td>500</td>\n",
       "    </tr>\n",
       "    <tr>\n",
       "      <th>p1</th>\n",
       "      <td>300</td>\n",
       "    </tr>\n",
       "    <tr>\n",
       "      <th>p3</th>\n",
       "      <td>600</td>\n",
       "    </tr>\n",
       "    <tr>\n",
       "      <th>p4</th>\n",
       "      <td>1300</td>\n",
       "    </tr>\n",
       "  </tbody>\n",
       "</table>\n",
       "</div>"
      ],
      "text/plain": [
       "     sum(amount)\n",
       "pid             \n",
       "p5           600\n",
       "p2           300\n",
       "p6           500\n",
       "p1           300\n",
       "p3           600\n",
       "p4          1300"
      ]
     },
     "execution_count": 22,
     "metadata": {},
     "output_type": "execute_result"
    }
   ],
   "source": [
    "GroupBypid_pandas_df =jdf2.toPandas().set_index('pid')\n",
    "GroupBypid_pandas_df"
   ]
  },
  {
   "cell_type": "code",
   "execution_count": 23,
   "metadata": {
    "collapsed": false
   },
   "outputs": [
    {
     "data": {
      "image/png": "[encoded data removed]",
      "text/plain": [
       "<matplotlib.figure.Figure at 0x7f6f175183d0>"
      ]
     },
     "metadata": {},
     "output_type": "display_data"
    }
   ],
   "source": [
    "%matplotlib inline\n",
    "# ax = GroupBypid_pandas_df ['sum(amount)']  \\\n",
    "#             .plot(kind='pie', title =\"sum_by_pname\",figsize=(12,6),legend=True, fontsize=12)\n",
    "# plt.show()\n",
    "\n",
    "ax =GroupBypid_pandas_df['sum(amount)'].plot(kind='pie',\n",
    "           title =\"sum_by_pid\",figsize=(8,8),startangle=90,autopct='%1.1f%%')\n",
    "ax.legend(bbox_to_anchor=(1.05, 1), loc=2, borderaxespad=0.)\n",
    "plt.show()"
   ]
  },
  {
   "cell_type": "code",
   "execution_count": 24,
   "metadata": {
    "collapsed": false
   },
   "outputs": [],
   "source": [
    "RawUserRDD3= sc.textFile(Path+\"parts.csv\")\n",
    "userRDD3 =RawUserRDD3.map(lambda line: line.split(\",\"))\n",
    "\n",
    "sqlContext = SparkSession.builder.getOrCreate()\n",
    "from pyspark.sql import Row\n",
    "user_Rows3 = userRDD3.map(lambda p:\n",
    "     Row(\n",
    "         pid=p[0], \n",
    "         pname=p[1],\n",
    "         pcolor=p[2]\n",
    "            )\n",
    ")\n",
    "\n",
    "user_df3= sqlContext.createDataFrame(user_Rows3)\n",
    "user_df3.registerTempTable(\"parts\")"
   ]
  },
  {
   "cell_type": "code",
   "execution_count": 25,
   "metadata": {
    "collapsed": false
   },
   "outputs": [
    {
     "name": "stdout",
     "output_type": "stream",
     "text": [
      "+------+---+---+\n",
      "|amount|pid|sid|\n",
      "+------+---+---+\n",
      "|   200| p1| s1|\n",
      "|   400| p3| s2|\n",
      "|   100| p5| s2|\n",
      "|   200| p2| s3|\n",
      "|   500| p4| s3|\n",
      "|   300| p6| s4|\n",
      "|   100| p2| s5|\n",
      "|   500| p5| s5|\n",
      "|   200| p6| s5|\n",
      "|   100| p1| s5|\n",
      "|   200| p3| s5|\n",
      "|   800| p4| s5|\n",
      "+------+---+---+\n",
      "\n"
     ]
    }
   ],
   "source": [
    "sqlContext.sql(\" SELECT *  FROM catalog \").show()"
   ]
  },
  {
   "cell_type": "code",
   "execution_count": 26,
   "metadata": {
    "collapsed": false
   },
   "outputs": [
    {
     "name": "stdout",
     "output_type": "stream",
     "text": [
      "+------+---+-----+\n",
      "|pcolor|pid|pname|\n",
      "+------+---+-----+\n",
      "|   Red| p1|  Nut|\n",
      "| Green| p2| Bolt|\n",
      "|  Blue| p3|Screw|\n",
      "|   Red| p4|Screw|\n",
      "|  Blue| p5|  Cam|\n",
      "|   Red| p6|  Cog|\n",
      "+------+---+-----+\n",
      "\n"
     ]
    }
   ],
   "source": [
    "sqlContext.sql(\" SELECT *  FROM parts \").show()"
   ]
  },
  {
   "cell_type": "code",
   "execution_count": 27,
   "metadata": {
    "collapsed": false
   },
   "outputs": [
    {
     "name": "stdout",
     "output_type": "stream",
     "text": [
      "+------+---+---+------+---+-----+\n",
      "|amount|pid|sid|pcolor|pid|pname|\n",
      "+------+---+---+------+---+-----+\n",
      "|   100| p5| s2|  Blue| p5|  Cam|\n",
      "|   500| p5| s5|  Blue| p5|  Cam|\n",
      "|   200| p2| s3| Green| p2| Bolt|\n",
      "|   100| p2| s5| Green| p2| Bolt|\n",
      "|   300| p6| s4|   Red| p6|  Cog|\n",
      "|   200| p6| s5|   Red| p6|  Cog|\n",
      "|   200| p1| s1|   Red| p1|  Nut|\n",
      "|   100| p1| s5|   Red| p1|  Nut|\n",
      "|   400| p3| s2|  Blue| p3|Screw|\n",
      "|   200| p3| s5|  Blue| p3|Screw|\n",
      "|   500| p4| s3|   Red| p4|Screw|\n",
      "|   800| p4| s5|   Red| p4|Screw|\n",
      "+------+---+---+------+---+-----+\n",
      "\n"
     ]
    }
   ],
   "source": [
    "joined_df2=user_df2.join(user_df3, user_df2.pid == user_df3.pid, \"left_outer\")\n",
    "joined_df2.show()"
   ]
  },
  {
   "cell_type": "code",
   "execution_count": 28,
   "metadata": {
    "collapsed": false
   },
   "outputs": [
    {
     "name": "stdout",
     "output_type": "stream",
     "text": [
      "+-----+-----------+\n",
      "|pname|sum(amount)|\n",
      "+-----+-----------+\n",
      "|  Cog|        500|\n",
      "|  Cam|        600|\n",
      "| Bolt|        300|\n",
      "|Screw|       1900|\n",
      "|  Nut|        300|\n",
      "+-----+-----------+\n",
      "\n"
     ]
    }
   ],
   "source": [
    "jdf3=joined_df2.select(\"pname\",\"amount\").groupby(\"pname\").sum(\"amount\")\n",
    "jdf3.show(10)"
   ]
  },
  {
   "cell_type": "code",
   "execution_count": 29,
   "metadata": {
    "collapsed": false
   },
   "outputs": [
    {
     "data": {
      "text/html": [
       "<div>\n",
       "<table border=\"1\" class=\"dataframe\">\n",
       "  <thead>\n",
       "    <tr style=\"text-align: right;\">\n",
       "      <th></th>\n",
       "      <th>sum(amount)</th>\n",
       "    </tr>\n",
       "    <tr>\n",
       "      <th>pname</th>\n",
       "      <th></th>\n",
       "    </tr>\n",
       "  </thead>\n",
       "  <tbody>\n",
       "    <tr>\n",
       "      <th>Cog</th>\n",
       "      <td>500</td>\n",
       "    </tr>\n",
       "    <tr>\n",
       "      <th>Cam</th>\n",
       "      <td>600</td>\n",
       "    </tr>\n",
       "    <tr>\n",
       "      <th>Bolt</th>\n",
       "      <td>300</td>\n",
       "    </tr>\n",
       "    <tr>\n",
       "      <th>Screw</th>\n",
       "      <td>1900</td>\n",
       "    </tr>\n",
       "    <tr>\n",
       "      <th>Nut</th>\n",
       "      <td>300</td>\n",
       "    </tr>\n",
       "  </tbody>\n",
       "</table>\n",
       "</div>"
      ],
      "text/plain": [
       "       sum(amount)\n",
       "pname             \n",
       "Cog            500\n",
       "Cam            600\n",
       "Bolt           300\n",
       "Screw         1900\n",
       "Nut            300"
      ]
     },
     "execution_count": 29,
     "metadata": {},
     "output_type": "execute_result"
    }
   ],
   "source": [
    "GroupBypname_pandas_df =jdf3.toPandas().set_index('pname')\n",
    "GroupBypname_pandas_df"
   ]
  },
  {
   "cell_type": "code",
   "execution_count": 30,
   "metadata": {
    "collapsed": false
   },
   "outputs": [
    {
     "data": {
      "image/png": "[encoded data removed]",
      "text/plain": [
       "<matplotlib.figure.Figure at 0x7f6f174f7d10>"
      ]
     },
     "metadata": {},
     "output_type": "display_data"
    }
   ],
   "source": [
    "%matplotlib inline\n",
    "\n",
    "ax =GroupBypname_pandas_df['sum(amount)'].plot(kind='pie',\n",
    "           title =\"sum_by_pname\",figsize=(8,8),startangle=90,autopct='%1.1f%%')\n",
    "ax.legend(bbox_to_anchor=(1.05, 1), loc=2, borderaxespad=0.)\n",
    "plt.show()"
   ]
  },
  {
   "cell_type": "code",
   "execution_count": null,
   "metadata": {
    "collapsed": true
   },
   "outputs": [],
   "source": []
  }
 ],
 "metadata": {
  "kernelspec": {
   "display_name": "Python 2",
   "language": "python",
   "name": "python2"
  },
  "language_info": {
   "codemirror_mode": {
    "name": "ipython",
    "version": 2
   },
   "file_extension": ".py",
   "mimetype": "text/x-python",
   "name": "python",
   "nbconvert_exporter": "python",
   "pygments_lexer": "ipython2",
   "version": "2.7.11"
  }
 },
 "nbformat": 4,
 "nbformat_minor": 0
}
